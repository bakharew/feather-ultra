{
 "cells": [
  {
   "cell_type": "code",
   "execution_count": 12,
   "metadata": {},
   "outputs": [
    {
     "name": "stdout",
     "output_type": "stream",
     "text": [
      "Your updated .riv file is saved as: feather_ultra_runtime_my_colors.riv\n"
     ]
    }
   ],
   "source": [
    "import itertools                                                                                              \n",
    "                                                                                                                 \n",
    "def get_permutations(color):                                                                                  \n",
    "    R, G, B = color[0:2], color[2:4], color[4:6]                                                              \n",
    "    permutations = [''.join(p) for p in itertools.permutations([R, G, B])]                                    \n",
    "    return permutations                                                                                       \n",
    "                                                                                                                \n",
    "def replace_colors():                                                                                         \n",
    "    # Original colors as per given contexts                                                                   \n",
    "    original_colors = {                                                                                                                                                                          \n",
    "        \"yellow\": \"FBC200\",                                                                                   \n",
    "        \"success\": \"5CC219\",                                                                                  \n",
    "        \"warning\": \"D57E12\",                                                                                  \n",
    "        \"danger\": \"EB3215\",                                                                                   \n",
    "        \"hover\": \"1C2E84\",                                                                                    \n",
    "        \"normal\": \"2B2F44\",                                                                                   \n",
    "    }                                                                                                         \n",
    "                                                                                                                \n",
    "    # Container for all original color permutations                                                           \n",
    "    all_original_colors = []                                                                                  \n",
    "                                                                                                                \n",
    "    # Container for all new colors given by user                                                              \n",
    "    all_new_colors = []                                                                                       \n",
    "                                                                                                                \n",
    "    file_path = 'feather_ultra_runtime.riv'                                                  \n",
    "                                                                                                                \n",
    "    # Ask for new colors                                                                                      \n",
    "    for context, original_color in original_colors.items():                                                   \n",
    "        new_color_hex = input(f\"Enter the new color for {context} context (example: 000000 for black) in hexadecimal: \").lower()                                                                                       \n",
    "        all_original_colors.extend(get_permutations(original_color.lower()))                                  \n",
    "        all_new_colors.extend(get_permutations(new_color_hex))                                                \n",
    "                                                                                                                \n",
    "    # Reading the original file                                                                               \n",
    "    with open(file_path, 'rb') as f:                                                                          \n",
    "        content = f.read()                                                                                    \n",
    "                                                                                                                \n",
    "    hex_content = ''.join('{:02x}'.format(b) for b in content)                                                \n",
    "                                                                                                                \n",
    "    # Replacing original colors with new ones                                                                 \n",
    "    for original, new in zip(all_original_colors, all_new_colors):                                            \n",
    "        hex_content = hex_content.replace(original, new)                                                      \n",
    "                                                                                                                \n",
    "    updated_content = bytearray.fromhex(hex_content)                                                          \n",
    "                                                                                                                \n",
    "    output_file = file_path.replace('.riv', '_my_colors.riv')                                                   \n",
    "                                                                                                                \n",
    "    # Saving the updated content to a new file                                                                \n",
    "    with open(output_file, 'wb') as f:                                                                        \n",
    "        f.write(updated_content)                                                                              \n",
    "                                                                                                                \n",
    "    print(\"Your updated .riv file is saved as:\", output_file)                                                 \n",
    "                                                                                                                 \n",
    "                                                                                                                 \n",
    "replace_colors()      "
   ]
  }
 ],
 "metadata": {
  "kernelspec": {
   "display_name": "base",
   "language": "python",
   "name": "python3"
  },
  "language_info": {
   "codemirror_mode": {
    "name": "ipython",
    "version": 3
   },
   "file_extension": ".py",
   "mimetype": "text/x-python",
   "name": "python",
   "nbconvert_exporter": "python",
   "pygments_lexer": "ipython3",
   "version": "3.10.8"
  },
  "orig_nbformat": 4
 },
 "nbformat": 4,
 "nbformat_minor": 2
}
